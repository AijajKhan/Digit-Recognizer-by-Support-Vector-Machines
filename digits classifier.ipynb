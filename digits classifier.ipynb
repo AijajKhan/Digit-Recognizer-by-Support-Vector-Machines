{
 "cells": [
  {
   "cell_type": "code",
   "execution_count": 197,
   "metadata": {},
   "outputs": [],
   "source": [
    "import numpy as np\n",
    "import pandas as pd\n",
    "import seaborn as sns\n",
    "import matplotlib.pyplot as py\n",
    "from sklearn.svm import SVC\n",
    "from sklearn.datasets import load_digits\n",
    "from sklearn.metrics import accuracy_score,precision_score,recall_score,f1_score,classification_report,confusion_matrix\n",
    "sns.set(style=\"whitegrid\",color_codes=True)"
   ]
  },
  {
   "cell_type": "code",
   "execution_count": 198,
   "metadata": {},
   "outputs": [
    {
     "name": "stdout",
     "output_type": "stream",
     "text": [
      "0\n",
      "1\n",
      "2\n",
      "3\n",
      "4\n"
     ]
    },
    {
     "data": {
      "image/png": "[encoded data removed]",
      "text/plain": [
       "<Figure size 432x288 with 5 Axes>"
      ]
     },
     "metadata": {},
     "output_type": "display_data"
    }
   ],
   "source": [
    "digits=load_digits()\n",
    "a=digits.images\n",
    "b=digits.target\n",
    "#df=pd.DataFrame[\"Images\": a, \"Labels\": b]\n",
    "mak=list(zip(digits.images,digits.target))\n",
    "for i, (imz, var) in enumerate(mak[:5]):\n",
    "    plt.subplot(2,5,i+1)\n",
    "    plt.axis('off')\n",
    "    plt.gray()\n",
    "    plt.imshow(imz,interpolation=\"nearest\")\n",
    "    print(var)\n",
    "    plt.title(\"Training: %i\"%var)\n"
   ]
  },
  {
   "cell_type": "code",
   "execution_count": 199,
   "metadata": {},
   "outputs": [
    {
     "data": {
      "text/plain": [
       "1797"
      ]
     },
     "execution_count": 199,
     "metadata": {},
     "output_type": "execute_result"
    }
   ],
   "source": [
    "len(digits.images)"
   ]
  },
  {
   "cell_type": "code",
   "execution_count": 200,
   "metadata": {},
   "outputs": [
    {
     "data": {
      "text/plain": [
       "1797"
      ]
     },
     "execution_count": 200,
     "metadata": {},
     "output_type": "execute_result"
    }
   ],
   "source": [
    "len(digits.target)\n"
   ]
  },
  {
   "cell_type": "code",
   "execution_count": 201,
   "metadata": {},
   "outputs": [],
   "source": [
    "samples=len(digits.data)\n",
    "test_size=3*(samples//4)\n",
    "digitimages=digits.images.reshape(samples,-1)"
   ]
  },
  {
   "cell_type": "code",
   "execution_count": 202,
   "metadata": {},
   "outputs": [
    {
     "data": {
      "text/plain": [
       "SVC(C=1.0, cache_size=200, class_weight=None, coef0=0.0,\n",
       "  decision_function_shape='ovr', degree=3, gamma=0.0001, kernel='rbf',\n",
       "  max_iter=2000, probability=False, random_state=1, shrinking=True,\n",
       "  tol=0.001, verbose=False)"
      ]
     },
     "execution_count": 202,
     "metadata": {},
     "output_type": "execute_result"
    }
   ],
   "source": [
    "model=SVC(gamma=0.0001,kernel=\"rbf\",max_iter=2000,random_state=1)\n",
    "model.fit(digitimages[:test_size],digits.target[:test_size])\n"
   ]
  },
  {
   "cell_type": "code",
   "execution_count": 227,
   "metadata": {},
   "outputs": [],
   "source": [
    "x_test=digitimages[test_size:]\n",
    "rev_x_test=digits.images[test_size:]\n",
    "y_test=digits.target[test_size:]"
   ]
  },
  {
   "cell_type": "code",
   "execution_count": 204,
   "metadata": {},
   "outputs": [],
   "source": [
    "predicted_y_test=model.predict(x_test)"
   ]
  },
  {
   "cell_type": "code",
   "execution_count": 205,
   "metadata": {},
   "outputs": [
    {
     "name": "stdout",
     "output_type": "stream",
     "text": [
      "              precision    recall  f1-score   support\n",
      "\n",
      "           0       1.00      0.98      0.99        43\n",
      "           1       0.95      0.89      0.92        46\n",
      "           2       1.00      1.00      1.00        43\n",
      "           3       0.97      0.77      0.86        47\n",
      "           4       0.98      0.94      0.96        48\n",
      "           5       0.92      0.98      0.95        45\n",
      "           6       0.98      0.98      0.98        47\n",
      "           7       0.90      0.98      0.94        45\n",
      "           8       0.77      0.90      0.83        41\n",
      "           9       0.85      0.89      0.87        45\n",
      "\n",
      "   micro avg       0.93      0.93      0.93       450\n",
      "   macro avg       0.93      0.93      0.93       450\n",
      "weighted avg       0.93      0.93      0.93       450\n",
      "\n"
     ]
    }
   ],
   "source": [
    "print(classification_report(y_test,predicted_y_test))"
   ]
  },
  {
   "cell_type": "code",
   "execution_count": 206,
   "metadata": {},
   "outputs": [
    {
     "data": {
      "text/plain": [
       "Text(30.5, 0.5, 'Actual')"
      ]
     },
     "execution_count": 206,
     "metadata": {},
     "output_type": "execute_result"
    },
    {
     "data": {
      "image/png": "[encoded data removed]",
      "text/plain": [
       "<Figure size 432x288 with 2 Axes>"
      ]
     },
     "metadata": {},
     "output_type": "display_data"
    }
   ],
   "source": [
    "a=confusion_matrix(y_test,predicted_y_test)\n",
    "sns.heatmap(a,annot=True,cmap=\"Greens\")\n",
    "plt.xlabel(\"Predicted\")\n",
    "plt.ylabel(\"Actual\")"
   ]
  },
  {
   "cell_type": "code",
   "execution_count": 207,
   "metadata": {},
   "outputs": [
    {
     "name": "stdout",
     "output_type": "stream",
     "text": [
      "Accuracy Score is: 0.9288888888888889\n"
     ]
    }
   ],
   "source": [
    "ax=accuracy_score(y_test,predicted_y_test)\n",
    "#x=precision_score(y_test,predicted_y_test)\n",
    "#y=recall_score(y_test,predicted_y_test)\n",
    "#z=f1_score(y_test,predicted_y_test)\n",
    "print(\"Accuracy Score is: {}\".format(ax))"
   ]
  },
  {
   "cell_type": "code",
   "execution_count": 212,
   "metadata": {},
   "outputs": [
    {
     "name": "stdout",
     "output_type": "stream",
     "text": [
      "[[2 3 4 5 6]]\n"
     ]
    }
   ],
   "source": [
    "'''a=np.array([2,3,4,5,6])\n",
    "b=a.reshape(len(a),1)\n",
    "print(b.reshape(1,len(a)))'''"
   ]
  },
  {
   "cell_type": "markdown",
   "metadata": {},
   "source": [
    "The score is same with Linear Kernel and Radial Basis Function kernel."
   ]
  },
  {
   "cell_type": "code",
   "execution_count": 229,
   "metadata": {},
   "outputs": [
    {
     "data": {
      "text/plain": [
       "'xtrain=digitimages[test_size,:]\\nprint(xtrain.shape)'"
      ]
     },
     "execution_count": 229,
     "metadata": {},
     "output_type": "execute_result"
    },
    {
     "data": {
      "image/png": "[encoded data removed]",
      "text/plain": [
       "<Figure size 432x288 with 5 Axes>"
      ]
     },
     "metadata": {},
     "output_type": "display_data"
    }
   ],
   "source": [
    "makpredict=list(zip(rev_x_test,predicted_y_test))\n",
    "for i , (imz,var) in enumerate(makpredict[:5]):\n",
    "    plt.subplot(2,5,i+1)\n",
    "    plt.gray()\n",
    "    plt.axis(\"off\")\n",
    "    plt.imshow(imz,interpolation=\"nearest\")\n",
    "    plt.title(\"Prediction %i\"%var)\n",
    "'''xtrain=digitimages[test_size,:]\n",
    "print(xtrain.shape)'''"
   ]
  },
  {
   "cell_type": "code",
   "execution_count": null,
   "metadata": {},
   "outputs": [],
   "source": []
  },
  {
   "cell_type": "code",
   "execution_count": null,
   "metadata": {},
   "outputs": [],
   "source": []
  }
 ],
 "metadata": {
  "kernelspec": {
   "display_name": "Python 3",
   "language": "python",
   "name": "python3"
  },
  "language_info": {
   "codemirror_mode": {
    "name": "ipython",
    "version": 3
   },
   "file_extension": ".py",
   "mimetype": "text/x-python",
   "name": "python",
   "nbconvert_exporter": "python",
   "pygments_lexer": "ipython3",
   "version": "3.6.8"
  }
 },
 "nbformat": 4,
 "nbformat_minor": 2
}
